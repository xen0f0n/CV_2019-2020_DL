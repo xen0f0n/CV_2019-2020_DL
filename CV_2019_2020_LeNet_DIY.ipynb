{
  "nbformat": 4,
  "nbformat_minor": 0,
  "metadata": {
    "colab": {
      "name": "CV_2019-2020_LeNet_DIY.ipynb",
      "provenance": [],
      "collapsed_sections": []
    },
    "kernelspec": {
      "name": "python3",
      "display_name": "Python 3"
    },
    "accelerator": "GPU"
  },
  "cells": [
    {
      "cell_type": "markdown",
      "metadata": {
        "id": "00YiyUEno3EL",
        "colab_type": "text"
      },
      "source": [
        "<img src = \"https://miro.medium.com/max/2154/1*1TI1aGBZ4dybR6__DI9dzA.png\" width = 800>\n",
        "\n",
        "## Classification using Le-Net [1998]\n",
        "\n",
        "Yann LeCun, Leon Bottou, Yosuha Bengio and Patrick Haffner proposed a\n",
        "neural network architecture for handwritten and machine-printed character\n",
        "recognition in 1990’s which they called LeNet-5.\n",
        "\n",
        "\n"
      ]
    },
    {
      "cell_type": "code",
      "metadata": {
        "id": "UP_fjR9Zpi3P",
        "colab_type": "code",
        "colab": {}
      },
      "source": [
        "import tensorflow as tf\n",
        "import numpy as np\n",
        "\n",
        "mnist = tf.keras.datasets.mnist\n",
        "(training_images, training_labels), (test_images, test_labels) = mnist.load_data()\n",
        "training_images=training_images.reshape(60000, 28, 28, 1)\n",
        "training_images=training_images / 255.0\n",
        "test_images = test_images.reshape(10000, 28, 28, 1)\n",
        "test_images=test_images/255.0\n",
        "\n",
        "print('Shape of training set (before padding): {}'.format(training_images.shape))\n",
        "print('Shape of testing set (before padding): {}\\n\\n'.format(test_images.shape))\n",
        "\n",
        "training_images = np.pad(training_images, ((0,0),(2,2),(2,2),(0,0)), 'constant')\n",
        "test_images = np.pad(test_images, ((0,0),(2,2),(2,2),(0,0)), 'constant')\n",
        "    \n",
        "print('Shape of training set (AFTER padding): {}'.format(training_images.shape))\n",
        "print('Shape of testing set (AFTER padding): {}\\n\\n'.format(test_images.shape))\n"
      ],
      "execution_count": 0,
      "outputs": []
    },
    {
      "cell_type": "code",
      "metadata": {
        "id": "UWAXxq8XpARh",
        "colab_type": "code",
        "colab": {}
      },
      "source": [
        "# Create model\n",
        "model = ''\n",
        "\n",
        "# Set optimizer, loss, metrics\n",
        "\n",
        "model.summary()\n",
        "\n",
        "# Train"
      ],
      "execution_count": 0,
      "outputs": []
    },
    {
      "cell_type": "code",
      "metadata": {
        "id": "e3pDh6SssJFY",
        "colab_type": "code",
        "colab": {}
      },
      "source": [
        "test_loss = model.evaluate(test_images, test_labels)"
      ],
      "execution_count": 0,
      "outputs": []
    },
    {
      "cell_type": "code",
      "metadata": {
        "id": "jGdMDLZHsOIX",
        "colab_type": "code",
        "colab": {}
      },
      "source": [
        "%matplotlib inline\n",
        "\n",
        "import matplotlib.image as mpimg\n",
        "import matplotlib.pyplot as plt\n",
        "\n",
        "test_image = test_images[0]\n",
        "plt.imshow(test_images[0][:, :, 0])\n",
        "test_image = np.expand_dims(test_image, axis=0)\n",
        "output = model.predict(test_image)\n",
        "print('Softmax output: \\n{}\\n'.format(output))\n",
        "print('Predicted number: {}\\n\\n'.format(np.argmax(output)))\n"
      ],
      "execution_count": 0,
      "outputs": []
    }
  ]
}